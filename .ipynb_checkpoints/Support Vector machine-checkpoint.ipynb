{
 "cells": [
  {
   "cell_type": "code",
   "execution_count": 1,
   "metadata": {},
   "outputs": [],
   "source": [
    "import pandas as pd\n",
    "import numpy as np\n",
    "from sklearn.tree import DecisionTreeRegressor\n",
    "from sklearn.model_selection import train_test_split"
   ]
  },
  {
   "cell_type": "code",
   "execution_count": 2,
   "metadata": {},
   "outputs": [],
   "source": [
    "data = pd.read_csv('new_data.csv')"
   ]
  },
  {
   "cell_type": "code",
   "execution_count": 3,
   "metadata": {},
   "outputs": [
    {
     "data": {
      "text/html": [
       "<div>\n",
       "<style scoped>\n",
       "    .dataframe tbody tr th:only-of-type {\n",
       "        vertical-align: middle;\n",
       "    }\n",
       "\n",
       "    .dataframe tbody tr th {\n",
       "        vertical-align: top;\n",
       "    }\n",
       "\n",
       "    .dataframe thead th {\n",
       "        text-align: right;\n",
       "    }\n",
       "</style>\n",
       "<table border=\"1\" class=\"dataframe\">\n",
       "  <thead>\n",
       "    <tr style=\"text-align: right;\">\n",
       "      <th></th>\n",
       "      <th>Depth</th>\n",
       "      <th>WS</th>\n",
       "      <th>RH (%)</th>\n",
       "      <th>Temp (Deg)</th>\n",
       "      <th>PM0.23_0.30</th>\n",
       "      <th>PM0.30_0.40</th>\n",
       "      <th>PM0.40_0.50</th>\n",
       "      <th>PM0.50_0.65</th>\n",
       "      <th>PM0.65_0.80</th>\n",
       "      <th>PM0.80_1</th>\n",
       "      <th>PM1_1.6</th>\n",
       "      <th>PM1.6_2</th>\n",
       "      <th>PM2_3</th>\n",
       "      <th>PM3_4</th>\n",
       "      <th>PM4_5</th>\n",
       "      <th>PM5_7.5</th>\n",
       "      <th>PM7.5_10</th>\n",
       "      <th>PM10_15</th>\n",
       "      <th>PM15_20</th>\n",
       "    </tr>\n",
       "  </thead>\n",
       "  <tbody>\n",
       "    <tr>\n",
       "      <td>0</td>\n",
       "      <td>412.0</td>\n",
       "      <td>2.500000</td>\n",
       "      <td>71.5</td>\n",
       "      <td>26.0</td>\n",
       "      <td>10.1</td>\n",
       "      <td>10.1</td>\n",
       "      <td>8.7</td>\n",
       "      <td>4.2</td>\n",
       "      <td>1.3</td>\n",
       "      <td>1.0</td>\n",
       "      <td>1.1</td>\n",
       "      <td>3.5</td>\n",
       "      <td>3.9</td>\n",
       "      <td>0.8</td>\n",
       "      <td>0.4</td>\n",
       "      <td>0.7</td>\n",
       "      <td>0.0</td>\n",
       "      <td>0.0</td>\n",
       "      <td>0.0</td>\n",
       "    </tr>\n",
       "    <tr>\n",
       "      <td>1</td>\n",
       "      <td>412.0</td>\n",
       "      <td>3.333333</td>\n",
       "      <td>71.3</td>\n",
       "      <td>26.0</td>\n",
       "      <td>10.3</td>\n",
       "      <td>10.4</td>\n",
       "      <td>9.0</td>\n",
       "      <td>4.4</td>\n",
       "      <td>1.4</td>\n",
       "      <td>1.1</td>\n",
       "      <td>1.1</td>\n",
       "      <td>2.5</td>\n",
       "      <td>2.6</td>\n",
       "      <td>0.6</td>\n",
       "      <td>2.4</td>\n",
       "      <td>5.0</td>\n",
       "      <td>3.0</td>\n",
       "      <td>5.7</td>\n",
       "      <td>0.0</td>\n",
       "    </tr>\n",
       "    <tr>\n",
       "      <td>2</td>\n",
       "      <td>412.0</td>\n",
       "      <td>2.222222</td>\n",
       "      <td>71.1</td>\n",
       "      <td>26.1</td>\n",
       "      <td>9.8</td>\n",
       "      <td>9.7</td>\n",
       "      <td>7.9</td>\n",
       "      <td>3.7</td>\n",
       "      <td>1.2</td>\n",
       "      <td>0.8</td>\n",
       "      <td>1.1</td>\n",
       "      <td>2.4</td>\n",
       "      <td>3.1</td>\n",
       "      <td>0.0</td>\n",
       "      <td>0.3</td>\n",
       "      <td>0.0</td>\n",
       "      <td>0.0</td>\n",
       "      <td>0.0</td>\n",
       "      <td>0.0</td>\n",
       "    </tr>\n",
       "    <tr>\n",
       "      <td>3</td>\n",
       "      <td>412.0</td>\n",
       "      <td>2.222222</td>\n",
       "      <td>71.1</td>\n",
       "      <td>26.1</td>\n",
       "      <td>10.1</td>\n",
       "      <td>10.1</td>\n",
       "      <td>8.4</td>\n",
       "      <td>4.1</td>\n",
       "      <td>1.4</td>\n",
       "      <td>1.0</td>\n",
       "      <td>1.3</td>\n",
       "      <td>3.4</td>\n",
       "      <td>5.5</td>\n",
       "      <td>1.3</td>\n",
       "      <td>1.7</td>\n",
       "      <td>1.5</td>\n",
       "      <td>1.9</td>\n",
       "      <td>2.9</td>\n",
       "      <td>0.0</td>\n",
       "    </tr>\n",
       "    <tr>\n",
       "      <td>4</td>\n",
       "      <td>412.0</td>\n",
       "      <td>0.833333</td>\n",
       "      <td>71.0</td>\n",
       "      <td>26.1</td>\n",
       "      <td>10.4</td>\n",
       "      <td>10.5</td>\n",
       "      <td>8.9</td>\n",
       "      <td>4.8</td>\n",
       "      <td>1.8</td>\n",
       "      <td>1.8</td>\n",
       "      <td>2.1</td>\n",
       "      <td>3.8</td>\n",
       "      <td>5.2</td>\n",
       "      <td>2.1</td>\n",
       "      <td>1.5</td>\n",
       "      <td>5.3</td>\n",
       "      <td>4.9</td>\n",
       "      <td>5.8</td>\n",
       "      <td>15.7</td>\n",
       "    </tr>\n",
       "  </tbody>\n",
       "</table>\n",
       "</div>"
      ],
      "text/plain": [
       "   Depth        WS  RH (%)  Temp (Deg)  PM0.23_0.30  PM0.30_0.40  PM0.40_0.50  \\\n",
       "0  412.0  2.500000    71.5        26.0         10.1         10.1          8.7   \n",
       "1  412.0  3.333333    71.3        26.0         10.3         10.4          9.0   \n",
       "2  412.0  2.222222    71.1        26.1          9.8          9.7          7.9   \n",
       "3  412.0  2.222222    71.1        26.1         10.1         10.1          8.4   \n",
       "4  412.0  0.833333    71.0        26.1         10.4         10.5          8.9   \n",
       "\n",
       "   PM0.50_0.65  PM0.65_0.80  PM0.80_1  PM1_1.6  PM1.6_2  PM2_3  PM3_4  PM4_5  \\\n",
       "0          4.2          1.3       1.0      1.1      3.5    3.9    0.8    0.4   \n",
       "1          4.4          1.4       1.1      1.1      2.5    2.6    0.6    2.4   \n",
       "2          3.7          1.2       0.8      1.1      2.4    3.1    0.0    0.3   \n",
       "3          4.1          1.4       1.0      1.3      3.4    5.5    1.3    1.7   \n",
       "4          4.8          1.8       1.8      2.1      3.8    5.2    2.1    1.5   \n",
       "\n",
       "   PM5_7.5  PM7.5_10  PM10_15  PM15_20  \n",
       "0      0.7       0.0      0.0      0.0  \n",
       "1      5.0       3.0      5.7      0.0  \n",
       "2      0.0       0.0      0.0      0.0  \n",
       "3      1.5       1.9      2.9      0.0  \n",
       "4      5.3       4.9      5.8     15.7  "
      ]
     },
     "execution_count": 3,
     "metadata": {},
     "output_type": "execute_result"
    }
   ],
   "source": [
    "data.head()"
   ]
  },
  {
   "cell_type": "code",
   "execution_count": 4,
   "metadata": {},
   "outputs": [
    {
     "data": {
      "text/html": [
       "<div>\n",
       "<style scoped>\n",
       "    .dataframe tbody tr th:only-of-type {\n",
       "        vertical-align: middle;\n",
       "    }\n",
       "\n",
       "    .dataframe tbody tr th {\n",
       "        vertical-align: top;\n",
       "    }\n",
       "\n",
       "    .dataframe thead th {\n",
       "        text-align: right;\n",
       "    }\n",
       "</style>\n",
       "<table border=\"1\" class=\"dataframe\">\n",
       "  <thead>\n",
       "    <tr style=\"text-align: right;\">\n",
       "      <th></th>\n",
       "      <th>Depth</th>\n",
       "      <th>WS</th>\n",
       "      <th>RH (%)</th>\n",
       "      <th>Temp (Deg)</th>\n",
       "      <th>PM0.23_0.30</th>\n",
       "      <th>PM0.30_0.40</th>\n",
       "      <th>PM0.40_0.50</th>\n",
       "      <th>PM0.50_0.65</th>\n",
       "      <th>PM0.65_0.80</th>\n",
       "      <th>PM0.80_1</th>\n",
       "      <th>PM1_1.6</th>\n",
       "      <th>PM1.6_2</th>\n",
       "      <th>PM2_3</th>\n",
       "      <th>PM3_4</th>\n",
       "      <th>PM4_5</th>\n",
       "      <th>PM5_7.5</th>\n",
       "      <th>PM7.5_10</th>\n",
       "      <th>PM10_15</th>\n",
       "      <th>PM15_20</th>\n",
       "    </tr>\n",
       "  </thead>\n",
       "  <tbody>\n",
       "  </tbody>\n",
       "</table>\n",
       "</div>"
      ],
      "text/plain": [
       "Empty DataFrame\n",
       "Columns: [Depth, WS, RH (%), Temp (Deg), PM0.23_0.30, PM0.30_0.40, PM0.40_0.50, PM0.50_0.65, PM0.65_0.80, PM0.80_1, PM1_1.6, PM1.6_2, PM2_3, PM3_4, PM4_5, PM5_7.5, PM7.5_10, PM10_15, PM15_20]\n",
       "Index: []"
      ]
     },
     "execution_count": 4,
     "metadata": {},
     "output_type": "execute_result"
    }
   ],
   "source": [
    "data_points = pd.DataFrame()\n",
    "data.head(0)"
   ]
  },
  {
   "cell_type": "code",
   "execution_count": 5,
   "metadata": {},
   "outputs": [],
   "source": [
    "data_points[\"Depth\"] = data[\"Depth\"]\n",
    "data_points[\"WS\"] = data[\"WS\"]\n",
    "data_points[\"RH (%)\"] = data[\"RH (%)\"]\n",
    "data_points[\"Temp (Deg)\"] = data[\"Temp (Deg)\"]"
   ]
  },
  {
   "cell_type": "code",
   "execution_count": 6,
   "metadata": {},
   "outputs": [
    {
     "data": {
      "text/html": [
       "<div>\n",
       "<style scoped>\n",
       "    .dataframe tbody tr th:only-of-type {\n",
       "        vertical-align: middle;\n",
       "    }\n",
       "\n",
       "    .dataframe tbody tr th {\n",
       "        vertical-align: top;\n",
       "    }\n",
       "\n",
       "    .dataframe thead th {\n",
       "        text-align: right;\n",
       "    }\n",
       "</style>\n",
       "<table border=\"1\" class=\"dataframe\">\n",
       "  <thead>\n",
       "    <tr style=\"text-align: right;\">\n",
       "      <th></th>\n",
       "      <th>Depth</th>\n",
       "      <th>WS</th>\n",
       "      <th>RH (%)</th>\n",
       "      <th>Temp (Deg)</th>\n",
       "    </tr>\n",
       "  </thead>\n",
       "  <tbody>\n",
       "    <tr>\n",
       "      <td>0</td>\n",
       "      <td>412.0</td>\n",
       "      <td>2.500000</td>\n",
       "      <td>71.5</td>\n",
       "      <td>26.0</td>\n",
       "    </tr>\n",
       "    <tr>\n",
       "      <td>1</td>\n",
       "      <td>412.0</td>\n",
       "      <td>3.333333</td>\n",
       "      <td>71.3</td>\n",
       "      <td>26.0</td>\n",
       "    </tr>\n",
       "    <tr>\n",
       "      <td>2</td>\n",
       "      <td>412.0</td>\n",
       "      <td>2.222222</td>\n",
       "      <td>71.1</td>\n",
       "      <td>26.1</td>\n",
       "    </tr>\n",
       "    <tr>\n",
       "      <td>3</td>\n",
       "      <td>412.0</td>\n",
       "      <td>2.222222</td>\n",
       "      <td>71.1</td>\n",
       "      <td>26.1</td>\n",
       "    </tr>\n",
       "    <tr>\n",
       "      <td>4</td>\n",
       "      <td>412.0</td>\n",
       "      <td>0.833333</td>\n",
       "      <td>71.0</td>\n",
       "      <td>26.1</td>\n",
       "    </tr>\n",
       "  </tbody>\n",
       "</table>\n",
       "</div>"
      ],
      "text/plain": [
       "   Depth        WS  RH (%)  Temp (Deg)\n",
       "0  412.0  2.500000    71.5        26.0\n",
       "1  412.0  3.333333    71.3        26.0\n",
       "2  412.0  2.222222    71.1        26.1\n",
       "3  412.0  2.222222    71.1        26.1\n",
       "4  412.0  0.833333    71.0        26.1"
      ]
     },
     "execution_count": 6,
     "metadata": {},
     "output_type": "execute_result"
    }
   ],
   "source": [
    "data_points.head()"
   ]
  },
  {
   "cell_type": "code",
   "execution_count": 7,
   "metadata": {},
   "outputs": [],
   "source": [
    "data_target = pd.DataFrame(data[\"PM0.23_0.30\"])\n",
    "data_points = np.array(data_points)\n",
    "data_target = np.array(data_target)\n",
    "data_target = data_target.reshape(1,-1)[0]"
   ]
  },
  {
   "cell_type": "code",
   "execution_count": 8,
   "metadata": {},
   "outputs": [
    {
     "data": {
      "text/plain": [
       "(array([[412.        ,   2.5       ,  71.5       ,  26.        ],\n",
       "        [412.        ,   3.33333333,  71.3       ,  26.        ],\n",
       "        [412.        ,   2.22222222,  71.1       ,  26.1       ],\n",
       "        ...,\n",
       "        [580.        ,   1.11111111,  81.7       ,  25.        ],\n",
       "        [580.        ,   1.66666667,  81.5       ,  25.        ],\n",
       "        [580.        ,   1.66666667,  81.3       ,  25.1       ]]),\n",
       " array([10.1, 10.3,  9.8, ...,  4. ,  4. ,  4.1]))"
      ]
     },
     "execution_count": 8,
     "metadata": {},
     "output_type": "execute_result"
    }
   ],
   "source": [
    "data_points,data_target"
   ]
  },
  {
   "cell_type": "code",
   "execution_count": 9,
   "metadata": {},
   "outputs": [
    {
     "data": {
      "text/plain": [
       "((1863, 4), (1863,))"
      ]
     },
     "execution_count": 9,
     "metadata": {},
     "output_type": "execute_result"
    }
   ],
   "source": [
    "data_points.shape,data_target.shape"
   ]
  },
  {
   "cell_type": "code",
   "execution_count": 10,
   "metadata": {},
   "outputs": [],
   "source": [
    "clf = DecisionTreeRegressor()"
   ]
  },
  {
   "cell_type": "code",
   "execution_count": 11,
   "metadata": {},
   "outputs": [],
   "source": [
    "x_train, x_test, y_train, y_test = train_test_split(data_points,data_target,random_state = 10)"
   ]
  },
  {
   "cell_type": "code",
   "execution_count": 12,
   "metadata": {},
   "outputs": [
    {
     "data": {
      "text/plain": [
       "((1397, 4), (1397,), (466, 4), (466,))"
      ]
     },
     "execution_count": 12,
     "metadata": {},
     "output_type": "execute_result"
    }
   ],
   "source": [
    "x_train.shape, y_train.shape,x_test.shape,y_test.shape"
   ]
  },
  {
   "cell_type": "code",
   "execution_count": 13,
   "metadata": {},
   "outputs": [],
   "source": [
    "# x_train = np.array(x_train)\n",
    "# x_train = pd.DataFrame(x_train)"
   ]
  },
  {
   "cell_type": "code",
   "execution_count": 14,
   "metadata": {},
   "outputs": [
    {
     "data": {
      "text/plain": [
       "dtype('float64')"
      ]
     },
     "execution_count": 14,
     "metadata": {},
     "output_type": "execute_result"
    }
   ],
   "source": [
    "y_test.dtype"
   ]
  },
  {
   "cell_type": "code",
   "execution_count": 15,
   "metadata": {},
   "outputs": [
    {
     "data": {
      "text/plain": [
       "((466,), (1397,), (466, 4), (1397, 4))"
      ]
     },
     "execution_count": 15,
     "metadata": {},
     "output_type": "execute_result"
    }
   ],
   "source": [
    "y_test.shape,y_train.shape,x_test.shape,x_train.shape"
   ]
  },
  {
   "cell_type": "code",
   "execution_count": 16,
   "metadata": {},
   "outputs": [
    {
     "data": {
      "text/plain": [
       "DecisionTreeRegressor(criterion='mse', max_depth=None, max_features=None,\n",
       "                      max_leaf_nodes=None, min_impurity_decrease=0.0,\n",
       "                      min_impurity_split=None, min_samples_leaf=1,\n",
       "                      min_samples_split=2, min_weight_fraction_leaf=0.0,\n",
       "                      presort=False, random_state=None, splitter='best')"
      ]
     },
     "execution_count": 16,
     "metadata": {},
     "output_type": "execute_result"
    }
   ],
   "source": [
    "clf.fit(x_train,y_train)"
   ]
  },
  {
   "cell_type": "code",
   "execution_count": 17,
   "metadata": {},
   "outputs": [],
   "source": [
    "x_predict = clf.predict(x_test)"
   ]
  },
  {
   "cell_type": "code",
   "execution_count": 18,
   "metadata": {},
   "outputs": [],
   "source": [
    "x_predict = x_predict.reshape(1,-1)\n",
    "y_test = y_test.reshape(-1,1)"
   ]
  },
  {
   "cell_type": "code",
   "execution_count": 19,
   "metadata": {},
   "outputs": [
    {
     "data": {
      "text/plain": [
       "0.7713191005564626"
      ]
     },
     "execution_count": 19,
     "metadata": {},
     "output_type": "execute_result"
    }
   ],
   "source": [
    "clf.score(x_test, y_test)"
   ]
  },
  {
   "cell_type": "code",
   "execution_count": null,
   "metadata": {},
   "outputs": [],
   "source": []
  }
 ],
 "metadata": {
  "kernelspec": {
   "display_name": "Python 3",
   "language": "python",
   "name": "python3"
  },
  "language_info": {
   "codemirror_mode": {
    "name": "ipython",
    "version": 3
   },
   "file_extension": ".py",
   "mimetype": "text/x-python",
   "name": "python",
   "nbconvert_exporter": "python",
   "pygments_lexer": "ipython3",
   "version": "3.7.4"
  }
 },
 "nbformat": 4,
 "nbformat_minor": 2
}
